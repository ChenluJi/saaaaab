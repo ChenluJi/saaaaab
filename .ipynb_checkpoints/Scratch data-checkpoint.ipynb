{
 "cells": [
  {
   "cell_type": "code",
   "execution_count": 2,
   "metadata": {
    "collapsed": true
   },
   "outputs": [],
   "source": [
    "from bs4 import BeautifulSoup\n",
    "import urllib\n",
    "import csv\n",
    "import pandas as pd"
   ]
  },
  {
   "cell_type": "markdown",
   "metadata": {},
   "source": [
    "# Function"
   ]
  },
  {
   "cell_type": "code",
   "execution_count": 1,
   "metadata": {
    "collapsed": false
   },
   "outputs": [
    {
     "ename": "NameError",
     "evalue": "name 'pd' is not defined",
     "output_type": "error",
     "traceback": [
      "\u001b[0;31m---------------------------------------------------------------------------\u001b[0m",
      "\u001b[0;31mNameError\u001b[0m                                 Traceback (most recent call last)",
      "\u001b[0;32m<ipython-input-1-a76835c23d72>\u001b[0m in \u001b[0;36m<module>\u001b[0;34m()\u001b[0m\n\u001b[1;32m      1\u001b[0m \u001b[0mstock\u001b[0m \u001b[0;34m=\u001b[0m \u001b[0;34m[\u001b[0m\u001b[0;34m'ACAD'\u001b[0m\u001b[0;34m]\u001b[0m\u001b[0;34m\u001b[0m\u001b[0m\n\u001b[1;32m      2\u001b[0m \u001b[0mpages\u001b[0m \u001b[0;34m=\u001b[0m \u001b[0;36m62\u001b[0m\u001b[0;34m\u001b[0m\u001b[0m\n\u001b[0;32m----> 3\u001b[0;31m \u001b[0mdf\u001b[0m \u001b[0;34m=\u001b[0m \u001b[0mpd\u001b[0m\u001b[0;34m.\u001b[0m\u001b[0mDataFrame\u001b[0m\u001b[0;34m(\u001b[0m\u001b[0;34m)\u001b[0m\u001b[0;34m\u001b[0m\u001b[0m\n\u001b[0m\u001b[1;32m      4\u001b[0m \u001b[0;34m\u001b[0m\u001b[0m\n\u001b[1;32m      5\u001b[0m \u001b[0;32mfor\u001b[0m \u001b[0mitem\u001b[0m \u001b[0;32min\u001b[0m \u001b[0mstock\u001b[0m\u001b[0;34m:\u001b[0m\u001b[0;34m\u001b[0m\u001b[0m\n",
      "\u001b[0;31mNameError\u001b[0m: name 'pd' is not defined"
     ]
    }
   ],
   "source": [
    "stock = ['ACAD']\n",
    "pages = 62\n",
    "df = pd.DataFrame()\n",
    "\n",
    "for item in stock:\n",
    "    for page in range(pages):\n",
    "        web = 'http://finance.yahoo.com/q/hp?s=' + item + '&a=4&b=10&c=2000&d=5&e=13&f=2016&g=d&z=66&y=' + str(page * 66)\n",
    "        html = urllib.urlopen(web).read()\n",
    "        soup = BeautifulSoup(html)\n",
    "        table = soup.find(\"table\", attrs={'class','yfnc_datamodoutline1'})\n",
    "        if table == None:\n",
    "            continue\n",
    "        rows = [] # store all of the records in this list\n",
    "        \n",
    "        for row in table.findAll('tr'):\n",
    "            cells = []\n",
    "            for cell in row.findAll('td'):\n",
    "                value = cell.get_text().strip()\n",
    "                cells.append(value)\n",
    "            rows.append(cells)\n",
    "\n",
    "        df1 = pd.DataFrame(rows)\n",
    "        df1 = df1[df1.index[[0,1,2,3,4,5,6]]]\n",
    "        df1 = df1.drop(df1.index[[0,1,-1]])\n",
    "        df1.columns = ['Date','Open','High','Low','Close','Volume','Adj Close*']\n",
    "        df = pd.concat([df,df1])\n",
    "        \n",
    "    df.to_csv('/Users/JJason/Documents/Study/summer project/saaaaab/data/' + item +'.csv',index=False)"
   ]
  },
  {
   "cell_type": "code",
   "execution_count": null,
   "metadata": {
    "collapsed": false
   },
   "outputs": [],
   "source": []
  },
  {
   "cell_type": "markdown",
   "metadata": {
    "collapsed": true
   },
   "source": [
    "# Draw the names of stocks"
   ]
  },
  {
   "cell_type": "code",
   "execution_count": 48,
   "metadata": {
    "collapsed": false
   },
   "outputs": [],
   "source": [
    "pages = 4\n",
    "df = pd.DataFrame()\n",
    "\n",
    "for page in range(pages):\n",
    "    web = 'http://finance.yahoo.com/q/cp?s=%5ENBI&c=' + str(page)\n",
    "    html = urllib.urlopen(web).read()\n",
    "    soup = BeautifulSoup(html)\n",
    "    table = soup.find(\"table\", attrs={'class','yfnc_tableout1'})\n",
    "    rows = [] # store all of the records in this list\n",
    "        \n",
    "    for row in table.findAll('tr'):\n",
    "        cells = []\n",
    "        for cell in row.findAll('td'):\n",
    "            value = cell.get_text().strip()\n",
    "            cells.append(value)\n",
    "        rows.append(cells)\n",
    "            \n",
    "    stocks = pd.DataFrame(rows)\n",
    "    stocks = stocks[stocks.index[[0]]]\n",
    "    stocks = stocks.drop(stocks.index[[0,1]])\n",
    "    df = pd.concat([df,stocks])  \n",
    "        \n",
    "df.to_csv('/Users/pengfeiwang/Desktop/stocks.csv', index = False, header = ['Company'])"
   ]
  },
  {
   "cell_type": "code",
   "execution_count": null,
   "metadata": {
    "collapsed": false
   },
   "outputs": [],
   "source": []
  },
  {
   "cell_type": "code",
   "execution_count": 4,
   "metadata": {
    "collapsed": false
   },
   "outputs": [],
   "source": [
    "stock_name = pd.read_csv('/Users/JJason/Desktop/stocks.csv')"
   ]
  },
  {
   "cell_type": "code",
   "execution_count": 5,
   "metadata": {
    "collapsed": false
   },
   "outputs": [],
   "source": [
    "name_list = list(stock_name.unstack())"
   ]
  },
  {
   "cell_type": "code",
   "execution_count": null,
   "metadata": {
    "collapsed": false
   },
   "outputs": [
    {
     "name": "stderr",
     "output_type": "stream",
     "text": [
      "/Users/JJason/miniconda3/envs/sabgaze/lib/python2.7/site-packages/bs4/__init__.py:166: UserWarning: No parser was explicitly specified, so I'm using the best available HTML parser for this system (\"lxml\"). This usually isn't a problem, but if you run this code on another system, or in a different virtual environment, it may use a different parser and behave differently.\n",
      "\n",
      "To get rid of this warning, change this:\n",
      "\n",
      " BeautifulSoup([your markup])\n",
      "\n",
      "to this:\n",
      "\n",
      " BeautifulSoup([your markup], \"lxml\")\n",
      "\n",
      "  markup_type=markup_type))\n"
     ]
    },
    {
     "name": "stdout",
     "output_type": "stream",
     "text": [
      "ACAD has been download\n",
      "ACHN has been download\n",
      "ACOR has been download\n",
      "ADHD has been download\n",
      "ADMS has been download\n",
      "ADRO has been download\n",
      "ADVM has been download\n"
     ]
    }
   ],
   "source": [
    "stock = name_list\n",
    "pages = 10\n",
    "df = pd.DataFrame()\n",
    "\n",
    "for item in stock:\n",
    "    for page in range(62):\n",
    "        web = 'http://finance.yahoo.com/q/hp?s=' + item + '&a=4&b=10&c=2000&d=5&e=13&f=2016&g=d&z=66&y=' + str(page * 66)\n",
    "        html = urllib.urlopen(web).read()\n",
    "        soup = BeautifulSoup(html)\n",
    "        table = soup.find(\"table\", attrs={'class','yfnc_datamodoutline1'})\n",
    "        if table == None:\n",
    "            continue\n",
    "        rows = [] # store all of the records in this list\n",
    "        \n",
    "        for row in table.findAll('tr'):\n",
    "            cells = []\n",
    "            for cell in row.findAll('td'):\n",
    "                value = cell.get_text().strip()\n",
    "                cells.append(value)\n",
    "            rows.append(cells)\n",
    "\n",
    "        df1 = pd.DataFrame(rows)\n",
    "        df1 = df1[df1.index[[0,1,2,3,4,5,6]]]\n",
    "        df1 = df1.drop(df1.index[[0,1,-1]])\n",
    "        df1.columns = ['Date','Open','High','Low','Close','Volume','Adj Close*']\n",
    "        df = pd.concat([df,df1])\n",
    "        \n",
    "    df.to_csv('/Users/JJason/Documents/Study/summer project/saaaaab/data/' + item +'.csv',index=False)\n",
    "    print item + ' has been download'"
   ]
  },
  {
   "cell_type": "code",
   "execution_count": null,
   "metadata": {
    "collapsed": false
   },
   "outputs": [],
   "source": []
  },
  {
   "cell_type": "code",
   "execution_count": null,
   "metadata": {
    "collapsed": true
   },
   "outputs": [],
   "source": []
  }
 ],
 "metadata": {
  "kernelspec": {
   "display_name": "Python 2",
   "language": "python",
   "name": "python2"
  },
  "language_info": {
   "codemirror_mode": {
    "name": "ipython",
    "version": 2
   },
   "file_extension": ".py",
   "mimetype": "text/x-python",
   "name": "python",
   "nbconvert_exporter": "python",
   "pygments_lexer": "ipython2",
   "version": "2.7.11"
  }
 },
 "nbformat": 4,
 "nbformat_minor": 0
}
